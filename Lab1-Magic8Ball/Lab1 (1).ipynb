{
 "cells": [
  {
   "cell_type": "code",
   "execution_count": 78,
   "id": "f8d993c5-608d-4987-9c9b-55823d0934ce",
   "metadata": {
    "collapsed": true,
    "jupyter": {
     "outputs_hidden": true,
     "source_hidden": true
    }
   },
   "outputs": [
    {
     "name": "stdout",
     "output_type": "stream",
     "text": [
      "What is your question?\n"
     ]
    },
    {
     "name": "stdin",
     "output_type": "stream",
     "text": [
      " Do you have a sense of justice?\n"
     ]
    },
    {
     "name": "stdout",
     "output_type": "stream",
     "text": [
      "Huh? Wow, that's such an interesting question.\n",
      "Let me think.\n",
      "'Do you have a sense of justice?' Hm...\n",
      "Ask again later and with a better question.\n"
     ]
    }
   ],
   "source": [
    "import random as rand\n",
    "import time as tim\n",
    "print(\"What is your question?\")\n",
    "z=input()\n",
    "if z==\"What is your question?\":\n",
    "    u=1\n",
    "    tim.sleep(5)\n",
    "    print(\"Are you mocking me?\")\n",
    "    y=input()\n",
    "    if y==\"No\":\n",
    "        print(\"Sure, I believe you. Ask your question.\")\n",
    "        z=input()\n",
    "        print(z+\" That's your question? You come into my house and mock me, and That's what you want to know? Fine.\")\n",
    "        k=2\n",
    "    else:\n",
    "        print(\"Okay, screw you too. I feel like being nice, so go ahead and ask your question.\")\n",
    "        z=input()\n",
    "        k=1\n",
    "        print(\"That's actually a great question!\")\n",
    "            \n",
    "else:\n",
    "    print(\"Huh? Wow, that's such an interesting question.\")\n",
    "    u=2\n",
    "    k=3\n",
    "tim.sleep(2)\n",
    "print(\"Let me think.\")\n",
    "tim.sleep(3)\n",
    "print(\"'\"+z+\"' Hm...\")\n",
    "tim.sleep(3)\n",
    "if k==1:\n",
    "    x=11\n",
    "else:\n",
    "    x=rand.randint(0,10)\n",
    "if x==0:\n",
    "    print(\"No, lol.\")\n",
    "if x==1:\n",
    "    print(\"Sure, why not?\")\n",
    "if x==2:\n",
    "    print(\"Use your best judgement.\")\n",
    "if x==3:\n",
    "    print(\"I'm sorry, I just-\")\n",
    "    print(\"'\"+z+\"'\")\n",
    "    print(\"Really? You're seriously asking me that?\")\n",
    "if x==4:\n",
    "    print(\"I'm not answering that.\")\n",
    "if x==5:\n",
    "    print(\"Surprisingly, yes!\")\n",
    "if x==6:\n",
    "    print(rand.randint(0,100))\n",
    "    print(\"Does that answer your question?\")\n",
    "if x==7:\n",
    "    print(\"I don't know and I don't care.\")\n",
    "if x==8:\n",
    "    print(\"Yes, absolutely. Act immediately, let no one stand in your way.\")\n",
    "if x==9:\n",
    "    print(\"Ask again later and with a better question.\")\n",
    "if x==10:\n",
    "    print(\"No, absolutely not.\")\n",
    "if x==11:\n",
    "    print(\"The answer is whichever one makes your life worse. Because I hate you.\")\n",
    "if u==1:\n",
    "    print(\"Now get out of my face.\")"
   ]
  }
 ],
 "metadata": {
  "kernelspec": {
   "display_name": "Python [conda env:base] *",
   "language": "python",
   "name": "conda-base-py"
  },
  "language_info": {
   "codemirror_mode": {
    "name": "ipython",
    "version": 3
   },
   "file_extension": ".py",
   "mimetype": "text/x-python",
   "name": "python",
   "nbconvert_exporter": "python",
   "pygments_lexer": "ipython3",
   "version": "3.12.7"
  }
 },
 "nbformat": 4,
 "nbformat_minor": 5
}
