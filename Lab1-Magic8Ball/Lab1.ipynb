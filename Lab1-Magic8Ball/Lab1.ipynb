{
 "cells": [
  {
   "cell_type": "code",
   "execution_count": 829,
   "id": "0cce582c-8365-459c-972f-7b8ab388ca00",
   "metadata": {
    "collapsed": true,
    "jupyter": {
     "outputs_hidden": true,
     "source_hidden": true
    }
   },
   "outputs": [
    {
     "name": "stdout",
     "output_type": "stream",
     "text": [
      "What is your question?\n"
     ]
    },
    {
     "name": "stdin",
     "output_type": "stream",
     "text": [
      " So you'll work for the professor?\n"
     ]
    },
    {
     "name": "stdout",
     "output_type": "stream",
     "text": [
      "Huh? Okay, if that's really what you want to ask, run the next cell.\n"
     ]
    }
   ],
   "source": [
    "print(\"What is your question?\")\n",
    "z=input()\n",
    "if z==\"What is your question?\":\n",
    "    u=1\n",
    "    print(\"Are you mocking me? Yes or No only.\")\n",
    "    y=input()\n",
    "    if y==\"No\":\n",
    "        print(\"Sure, I believe you. Ask your question.\")\n",
    "        z=input()\n",
    "        print(z+\" That's your question? You come into my house and mock me, and That's what you want to know? Fine, run the next cell.\")\n",
    "        k=2\n",
    "    else:\n",
    "        print(\"Okay, screw you too. I feel like being nice, so go ahead and ask your question.\")\n",
    "        z=input()\n",
    "        k=1\n",
    "        print(\"That's actually a great question, go ahead and run the next cell.\")\n",
    "            \n",
    "else:\n",
    "    print(\"Huh? Okay, if that's really what you want to ask, run the next cell.\")\n",
    "    u=2\n",
    "    k=3"
   ]
  },
  {
   "cell_type": "code",
   "execution_count": 831,
   "id": "2280ac88-582c-4404-b521-e1a34da1c080",
   "metadata": {
    "collapsed": true,
    "jupyter": {
     "outputs_hidden": true,
     "source_hidden": true
    }
   },
   "outputs": [
    {
     "name": "stdout",
     "output_type": "stream",
     "text": [
      "Let me think...\n",
      "'So you'll work for the professor?' Right?\n",
      "Sure, why not?\n"
     ]
    }
   ],
   "source": [
    "import random as rand\n",
    "import time as tim\n",
    "print(\"Let me think...\")\n",
    "tim.sleep(3)\n",
    "print(\"'\"+z+\"' Right?\")\n",
    "tim.sleep(3)\n",
    "if k==1:\n",
    "    x=11\n",
    "else:\n",
    "    x=rand.randint(0,10)\n",
    "if x==0:\n",
    "    print(\"No, lol.\")\n",
    "if x==1:\n",
    "    print(\"Sure, why not?\")\n",
    "if x==2:\n",
    "    print(\"Use your best judgement.\")\n",
    "if x==3:\n",
    "    print(\"I'm sorry, I just-\")\n",
    "    print(\"'\"+z+\"'\")\n",
    "    print(\"Really? You're seriously asking me that?\")\n",
    "if x==4:\n",
    "    print(\"I'm not answering that.\")\n",
    "if x==5:\n",
    "    print(\"Surprisingly, yes!\")\n",
    "if x==6:\n",
    "    print(rand.randint(0,100))\n",
    "    print(\"Does that answer your question?\")\n",
    "if x==7:\n",
    "    print(\"I don't know and I don't care.\")\n",
    "if x==8:\n",
    "    print(\"Yes, absolutely. Act immediately, let no one stand in your way.\")\n",
    "if x==9:\n",
    "    print(\"Ask again later and with a better question.\")\n",
    "if x==10:\n",
    "    print(\"No, absolutely not.\")\n",
    "if x==11:\n",
    "    print(\"The answer is whichever one makes your life worse. Because I hate you.\")\n",
    "if u==1:\n",
    "    print(\"Now get out of my face.\")"
   ]
  }
 ],
 "metadata": {
  "kernelspec": {
   "display_name": "Python [conda env:base] *",
   "language": "python",
   "name": "conda-base-py"
  },
  "language_info": {
   "codemirror_mode": {
    "name": "ipython",
    "version": 3
   },
   "file_extension": ".py",
   "mimetype": "text/x-python",
   "name": "python",
   "nbconvert_exporter": "python",
   "pygments_lexer": "ipython3",
   "version": "3.12.7"
  }
 },
 "nbformat": 4,
 "nbformat_minor": 5
}
